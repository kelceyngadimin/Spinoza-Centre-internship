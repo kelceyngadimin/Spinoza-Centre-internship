{
 "cells": [
  {
   "cell_type": "code",
   "execution_count": null,
   "metadata": {},
   "outputs": [],
   "source": [
    "%matplotlib inline\n",
    "%load_ext autoreload\n",
    "%autoreload 2"
   ]
  },
  {
   "cell_type": "code",
   "execution_count": null,
   "metadata": {},
   "outputs": [],
   "source": [
    "from linescanning import (\n",
    "    prf,\n",
    "    optimal,\n",
    "    pycortex,\n",
    "    plotting,\n",
    "    fitting,\n",
    ")\n",
    "import numpy as np\n",
    "import os\n",
    "import pandas as pd\n",
    "from scipy import io\n",
    "import cortex as cx\n",
    "import re\n",
    "import nibabel as nib\n",
    "import matplotlib as mpl\n",
    "\n",
    "opd = os.path.dirname\n",
    "opj = os.path.join"
   ]
  },
  {
   "cell_type": "markdown",
   "metadata": {},
   "source": [
    "<h1>Perform ROI drawing based on polar angle map</h2>\n",
    "This notebook may be used to perform ROI drawing of V1/V2/V3 in Freeview. Having the data as a .label file makes integrating it in prfpy easier. After doing this in Freeview, you can load the data as a mask in Inkscape. When you draw around it, you can create a mask that is easy to use in pycortex as well for visualization."
   ]
  },
  {
   "cell_type": "code",
   "execution_count": 19,
   "metadata": {},
   "outputs": [],
   "source": [
    "sub=\n",
    "ses='ses-avg'\n",
    "model='gauss'\n",
    "deriv='/data1/projects/Meman1/projects/pilot/derivatives'\n",
    "filenamepattern = r'sub-\\d+_ses-\\d+_task-2R_run-\\d+_(?:hemi-(L|R)_space-fsnative|space-fsnative_hemi-(L|R))_desc-denoised_bold\\.npy'\n",
    "fs_dir=opj(deriv, 'freesurfer')\n",
    "\n",
    "minecc=0 #The minimum\n",
    "maxecc=5 #The maximum eccentricity you want plotted in Freeview or Inkscape"
   ]
  },
  {
   "cell_type": "markdown",
   "metadata": {},
   "source": [
    "<h3>1. Load previously fitted prf model</h3>\n"
   ]
  },
  {
   "cell_type": "code",
   "execution_count": null,
   "metadata": {},
   "outputs": [],
   "source": [
    "pkl_file = opj(deriv, 'prf', sub, f'{sub}_{ses}_task-2R_model-{model}_stage-iter_desc-prf_params.pkl')      # Location and file name of the pkl file containing fitting parameters. Sometimes there is another 'ses'-folder in the subject folder, but not with 'avg' session\n",
    "prf_params = prf.Parameters(pkl_file, model=model).to_df()                                                  # Load the parameters as a dataframe. NOTE: Header contains info about what the values mean\n",
    "prf_obj_g = optimal.pRFCalc(pkl_file, model=model)\n",
    "\n",
    "# Define for drawing:\n",
    "prf_ecc = prf_params['ecc'].to_numpy()\n",
    "prf_angle = prf_params['polar'].to_numpy()\n",
    "prf_r2 = prf_params['r2'].to_numpy()\n",
    "prf_ampl = prf_params['prf_ampl'].to_numpy()\n",
    "\n",
    "# Let's look at the parameters for a bit:\n",
    "display(prf_params.head())\n",
    "\n",
    "print('Maximum eccentricity present in the file is:', prf_params['ecc'].max())\n",
    "print('Minimum R2 present in the data is:', prf_params['r2'].min())"
   ]
  },
  {
   "cell_type": "markdown",
   "metadata": {},
   "source": [
    "Now, create mean time series array:"
   ]
  },
  {
   "cell_type": "code",
   "execution_count": null,
   "metadata": {},
   "outputs": [],
   "source": [
    "# Get mean signal intensity array\n",
    "counter=0\n",
    "\n",
    "for i, session in enumerate([\"ses-2\", \"ses-3\"]):                      #loop over functional sessions\n",
    "            ses_folder_pybest  = os.path.join(deriv, 'pybest', sub, session, 'unzscored')\n",
    "\n",
    "            if os.path.exists(ses_folder_pybest):\n",
    "\n",
    "                sessionfile = sorted([filename for filename in sorted(os.listdir(ses_folder_pybest)) if re.match(filenamepattern, filename)])\n",
    "\n",
    "                for run_nr in range(0, len(sessionfile), 2): #loop over the individual runs. IMPORTANT: REQUIRES APPROPRIATE FILE NUMBERING WITHIN FOLDER SO THAT ALPHABETICAL ORDER CAN BE USED FOR INDEXING\n",
    "                    hemi_L = np.load(os.path.join(ses_folder_pybest,sessionfile[run_nr]))\n",
    "                    hemi_R = np.load(os.path.join(ses_folder_pybest,sessionfile[run_nr+1]))\n",
    "                    tseries = np.concatenate([hemi_L.T, hemi_R.T]) #concatenate the data\n",
    "                    \n",
    "                    try:\n",
    "                        summedtseries += tseries.mean(axis=1)\n",
    "                        counter += 1\n",
    "                        \n",
    "                    except NameError:\n",
    "                        summedtseries = np.zeros(len(tseries.mean(axis=1))) \n",
    "                        summedtseries += tseries.mean(axis=1)\n",
    "                        counter += 1\n",
    "\n",
    "meantseries = summedtseries/counter"
   ]
  },
  {
   "cell_type": "markdown",
   "metadata": {},
   "source": [
    "Now, we should create a mask for the visualization. You can do this as you wish. "
   ]
  },
  {
   "cell_type": "code",
   "execution_count": null,
   "metadata": {},
   "outputs": [],
   "source": [
    "# ** Control visibility of data [using mask] \n",
    "# If you don't want to show the values of every point (for example because it is outside the visual cortex). You may want to hide it. \n",
    "# If you are plotting PRFs, then you may want to hide the bad fits. So you can create a mask for where the rsq<threshold (e.g., 0.1)\n",
    "# data_mask: what to show (TRUE), what to hide (FALSE)\n",
    "# -> should boolean 1D np.ndarray, where the length = number of vertices in subject surface\n",
    "# -> if unspecified, all surface functions assume TRUE for all voxels\n",
    "\n",
    "prf_r2_mask = prf_params['r2'].to_numpy()>0.1  # Only use vertices with a R2 > 10%\n",
    "prf_final_mask = prf_r2_mask\n",
    "\n",
    "print(f'Final mask for {sub} {ses} {model} model contains {np.sum(prf_final_mask)} vertices out of a total of {len(prf_final_mask)} vertices')"
   ]
  },
  {
   "cell_type": "markdown",
   "metadata": {},
   "source": [
    "<h3>2. Create Freesurfer custom overlay file for polar angle and eccentricity and mean signal intensity</h3>"
   ]
  },
  {
   "cell_type": "code",
   "execution_count": null,
   "metadata": {},
   "outputs": [],
   "source": [
    "from dag_prf_utils.fs_tools import FSMaker\n",
    "fs = FSMaker(sub=sub,fs_dir=fs_dir)"
   ]
  },
  {
   "cell_type": "code",
   "execution_count": null,
   "metadata": {},
   "outputs": [],
   "source": [
    "# Add polar angle plot\n",
    "fs.add_surface(\n",
    "    data = prf_angle,\n",
    "    surf_name = f'{sub}-polar_angle',    \n",
    "    vmin = -3.14, vmax=3.14, # min and max values of polar anlge \n",
    "    data_mask=prf_final_mask,\n",
    "    cmap = 'marco_pol', # A colleague (Marco Aqil) suggested this custom color map for polar angles. I called it 'marco_pol'\n",
    ")\n",
    "\n",
    "# Add eccentricity\n",
    "fs.add_surface(\n",
    "    data = prf_ecc,\n",
    "    surf_name = f'{sub}-eccentricity',    \n",
    "    vmin = minecc, vmax = maxecc, # min and max values of eccentricity\n",
    "    data_mask=prf_final_mask,\n",
    "    cmap = 'nipy_spectral', \n",
    ")\n",
    "\n",
    "# Add r2\n",
    "fs.add_surface(\n",
    "    data = prf_r2,\n",
    "    surf_name = f'{sub}-r2',    \n",
    "    vmin = 0.1, vmax = 1, # min and max values of r2\n",
    "    data_mask=prf_final_mask,\n",
    "    cmap = 'plasma', \n",
    ")\n",
    "\n",
    "# Add amplitude\n",
    "fs.add_surface(\n",
    "    data = prf_ampl,\n",
    "    surf_name = f'{sub}-prfampl',    \n",
    "    vmin = 0, # min value\n",
    "    data_mask=prf_final_mask,\n",
    "    cmap = 'viridis', \n",
    ")\n",
    "\n",
    "# Add mean signal intensity\n",
    "fs.add_surface(\n",
    "    data = meantseries,\n",
    "    surf_name = f'{sub}-signalintensity',\n",
    "    cmap = 'seismic',\n",
    ")"
   ]
  },
  {
   "cell_type": "markdown",
   "metadata": {},
   "source": [
    "<h3>2b. Get MMP atlas in subject space</h3>"
   ]
  },
  {
   "cell_type": "code",
   "execution_count": null,
   "metadata": {},
   "outputs": [],
   "source": [
    "!mri_surf2surf --srcsubject fsaverage --trgsubject {sub} --hemi lh --sval-annot {fs_dir}/fsaverage/label/lh.PALS_B12_Visuotopic.annot --tval {fs_dir}/{sub}/label/lh.PALS_B12_Visuotopic.annot\n",
    "!mri_surf2surf --srcsubject fsaverage --trgsubject {sub} --hemi rh --sval-annot {fs_dir}/fsaverage/label/rh.PALS_B12_Visuotopic.annot --tval {fs_dir}/{sub}/label/rh.PALS_B12_Visuotopic.annot \n"
   ]
  },
  {
   "cell_type": "markdown",
   "metadata": {},
   "source": [
    "<h3>3. Draw ROIs in Freeview</h3>\n",
    "N.B. run this locally, as Minerva on Spinoza computers can't open freeview. You can use the signal intensity overlay as a guide to see in which parts the polar angle data may not be trusted."
   ]
  },
  {
   "cell_type": "code",
   "execution_count": 20,
   "metadata": {},
   "outputs": [
    {
     "name": "stdout",
     "output_type": "stream",
     "text": [
      "RAS: 47.6131 -59.6380 57.0526\n",
      "SurfaceRAS: 45.7310 -78.5271 18.0346\n",
      "SurfaceRAS: 45.7310 -78.5271 18.0346\n",
      "RAS: 41.1818 -61.2665 72.9849\n",
      "SurfaceRAS: 39.2997 -80.1555 33.9669\n",
      "SurfaceRAS: 39.2997 -80.1555 33.9669\n",
      "RAS: 33.7364 -58.6008 55.0671\n",
      "SurfaceRAS: 31.8543 -77.4899 16.0491\n",
      "SurfaceRAS: 31.8543 -77.4899 16.0491\n",
      "RAS: 44.1959 -61.1749 46.4714\n",
      "SurfaceRAS: 42.3138 -80.0639 7.4534\n",
      "SurfaceRAS: 42.3138 -80.0639 7.4534\n",
      "\n",
      "RAS: 34.5014 -58.2379 50.9742\n",
      "SurfaceRAS: 32.6193 -77.1269 11.9562\n",
      "SurfaceRAS: 32.6193 -77.1269 11.9562\n",
      "RAS: 44.6966 -64.6958 81.6452\n",
      "SurfaceRAS: 42.8145 -83.5849 42.6272\n",
      "SurfaceRAS: 42.8145 -83.5849 42.6272\n",
      "RAS: 38.3456 -61.1337 51.1964\n",
      "SurfaceRAS: 36.4635 -80.0228 12.1784\n",
      "SurfaceRAS: 36.4635 -80.0228 12.1784\n",
      "RAS: -38.3428 -60.3896 55.3178\n",
      "SurfaceRAS: -40.2249 -79.2787 16.2998\n",
      "SurfaceRAS: -40.2249 -79.2787 16.2998\n"
     ]
    }
   ],
   "source": [
    "!freeview -f  {fs_dir}/{sub}/surf/lh.inflated:overlay={fs_dir}/{sub}/surf/custom/lh.{sub}-eccentricity::overlay_custom={fs_dir}/{sub}/surf/custom/{sub}-eccentricity_overlay::overlay={fs_dir}/{sub}/surf/custom/lh.{sub}-polar_angle::overlay_custom={fs_dir}/{sub}/surf/custom/{sub}-polar_angle_overlay::overlay={fs_dir}/{sub}/surf/custom/lh.{sub}-signalintensity::overlay_custom={fs_dir}/{sub}/surf/custom/{sub}-signalintensity_overlay::overlay={fs_dir}/{sub}/surf/custom/lh.{sub}-r2::overlay_custom={fs_dir}/{sub}/surf/custom/{sub}-r2_overlay::overlay={fs_dir}/{sub}/surf/custom/lh.{sub}-prfampl::overlay_custom={fs_dir}/{sub}/surf/custom/{sub}-prfampl_overlay::annot={fs_dir}/{sub}/label/lh.PALS_B12_Visuotopic.annot\\\n",
    "{fs_dir}/{sub}/surf/rh.inflated:overlay={fs_dir}/{sub}/surf/custom/rh.{sub}-eccentricity::overlay_custom={fs_dir}/{sub}/surf/custom/{sub}-eccentricity_overlay::overlay={fs_dir}/{sub}/surf/custom/rh.{sub}-polar_angle::overlay_custom={fs_dir}/{sub}/surf/custom/{sub}-polar_angle_overlay::overlay={fs_dir}/{sub}/surf/custom/rh.{sub}-signalintensity::overlay_custom={fs_dir}/{sub}/surf/custom/{sub}-signalintensity_overlay::overlay={fs_dir}/{sub}/surf/custom/rh.{sub}-r2::overlay_custom={fs_dir}/{sub}/surf/custom/{sub}-r2_overlay::overlay={fs_dir}/{sub}/surf/custom/rh.{sub}-prfampl::overlay_custom={fs_dir}/{sub}/surf/custom/{sub}-prfampl_overlay::annot={fs_dir}/{sub}/label/rh.PALS_B12_Visuotopic.annot\\\n",
    "--camera Azimuth 90 Zoom 1 Elevation 0 Roll 0 --colorscale  --verbose\n"
   ]
  },
  {
   "cell_type": "markdown",
   "metadata": {},
   "source": [
    "<h3>4. Load ROI into Inkscape and draw pycortex ROI</h3>\n",
    "Now, you need to go to Inkscape and load the mask of your ROI as data. Then, you can draw the ROI yourself. Annoyingly, you have to do this on Minerva because locally Inkscape does not work."
   ]
  },
  {
   "cell_type": "code",
   "execution_count": null,
   "metadata": {},
   "outputs": [],
   "source": [
    "#Load V1 vertices from left hemisphere, together with the number of vertices in the left hemisphere so indexing for right hemisphere works appropriately; the .label files start from 0 and work per hemisphere, whereas Inkscape merges the two hemispheres together.\n",
    "V1_lh = nib.freesurfer.read_label(f\"{deriv}/freesurfer/{sub}/customlabel/roidrawing/lh.V1.label\")\n",
    "V2_lh = nib.freesurfer.read_label(f\"{deriv}/freesurfer/{sub}/customlabel/roidrawing/lh.V2.label\")\n",
    "V3_lh = nib.freesurfer.read_label(f\"{deriv}/freesurfer/{sub}/customlabel/roidrawing/lh.V3.label\")\n",
    "\n",
    "all_lh = nib.freesurfer.read_geometry(f\"{deriv}/freesurfer/{sub}/surf/lh.inflated\")\n",
    "\n",
    "#Load V1 vertices from right hemisphere. \n",
    "V1_rh = nib.freesurfer.read_label(f\"{deriv}/freesurfer/{sub}/customlabel/roidrawing/rh.V1.label\")\n",
    "V2_rh = nib.freesurfer.read_label(f\"{deriv}/freesurfer/{sub}/customlabel/roidrawing/rh.V2.label\")\n",
    "V3_rh = nib.freesurfer.read_label(f\"{deriv}/freesurfer/{sub}/customlabel/roidrawing/rh.V3.label\")\n",
    "\n",
    "all_rh = nib.freesurfer.read_geometry(f\"{deriv}/freesurfer/{sub}/surf/rh.inflated\")\n",
    "\n",
    "# Get the right indices for the right hemisphere by adding the number of vertices in left hemisphere to the ROI indices for the right hemisphere.\n",
    "V1_rh = V1_rh + len(all_lh[0])\n",
    "V2_rh = V2_rh + len(all_lh[0])\n",
    "V3_rh = V3_rh + len(all_lh[0])\n",
    "\n",
    "#Concatenate the 2 and sort them such that they are in the right order\n",
    "V1_vertices = np.sort(np.concatenate([V1_lh, V1_rh]))\n",
    "V2_vertices = np.sort(np.concatenate([V2_lh, V2_rh]))\n",
    "V3_vertices = np.sort(np.concatenate([V3_lh, V3_rh]))"
   ]
  },
  {
   "cell_type": "markdown",
   "metadata": {},
   "source": [
    "In Inkscape/Pycortex, the indexing of the mask works a little bit differently than in Freeview. So, fix it:"
   ]
  },
  {
   "cell_type": "code",
   "execution_count": null,
   "metadata": {},
   "outputs": [],
   "source": [
    "# Create a ROI with the correct dimensions to create a Vertex from:\n",
    "totalvertices = len(all_lh[0])+len(all_rh[0]) \n",
    "\n",
    "v1roi = np.zeros(totalvertices)\n",
    "v2roi = np.zeros(totalvertices)\n",
    "v3roi = np.zeros(totalvertices)\n",
    "\n",
    "for vertex in V1_vertices:\n",
    "    v1roi[vertex]=1\n",
    "\n",
    "for vertex in V2_vertices:\n",
    "    v2roi[vertex]=1\n",
    "\n",
    "for vertex in V3_vertices:\n",
    "    v3roi[vertex]=1\n",
    "\n",
    "v1vertex = cx.Vertex(v1roi, subject=sub)\n",
    "v2vertex = cx.Vertex(v2roi, subject=sub)\n",
    "v3vertex = cx.Vertex(v3roi, subject=sub)"
   ]
  },
  {
   "cell_type": "markdown",
   "metadata": {},
   "source": [
    "Now, load the mask into Inkscape. You need to trace the outline of the masks for all the ROIs. I have also added the eccentricity and polar angle and signal intensity such that you can see if everything makes sense on a flatmap.\n"
   ]
  },
  {
   "cell_type": "code",
   "execution_count": null,
   "metadata": {},
   "outputs": [],
   "source": [
    "# In case you want to change eccentricty \n",
    "prf_obj_g.ecc_v.vmin1 = minecc\n",
    "prf_obj_g.ecc_v.vmax1 = maxecc\n",
    "\n",
    "# Add eccentricity and polar angle and signal intensity data. Remove these in the rois->shapes layers.\n",
    "cx.utils.add_roi(prf_obj_g.ecc_v.get_result(), name='ecc', open_inkscape=False)\n",
    "cx.utils.add_roi(prf_obj_g.polar_v.get_result(), name='polar', open_inkscape=False)\n",
    "cx.utils.add_roi(cx.Vertex(meantseries, subject=sub, cmap='BuWtRd'), name='signalintensity', open_inkscape=False)\n",
    "\n",
    "# Add V1/V2/V3 masks\n",
    "cx.utils.add_roi(v1vertex, name='V1', open_inkscape=False)\n",
    "cx.utils.add_roi(v2vertex, name='V2', open_inkscape=False)\n",
    "cx.utils.add_roi(v3vertex, name='V3', open_inkscape=False)"
   ]
  },
  {
   "cell_type": "markdown",
   "metadata": {},
   "source": [
    "<h3>5. Check results</h3>\n",
    "Now, you should be done! For checking purposes, you can perform the following steps:\n",
    "1. Make a pycortex webshow to see if the ROIs show up in the right way.\n",
    "2. Check if the vertices included for V2 and V3 in Inkscape are the same/similar as in Freeview. For V1, this is not really possible because of the cut in the middle of V1 which makes you lose some vertices."
   ]
  },
  {
   "cell_type": "code",
   "execution_count": null,
   "metadata": {},
   "outputs": [],
   "source": [
    "#1. Check the pycortex webshow. Make sure to recache, otherwise ROIs will not show up.\n",
    "cx.webshow({'polar': prf_obj_g.polar_v.get_result(), 'ecc': prf_obj_g.ecc_v.get_result(), 'r2': prf_obj_g.r2_v.get_result()}, recache=True)"
   ]
  },
  {
   "cell_type": "code",
   "execution_count": null,
   "metadata": {},
   "outputs": [],
   "source": [
    "# 2. Check vertices included in the Freeview vs. Inkscape ROIs for V2 and V3:\n",
    "\n",
    "# get vertices for ROIs as drawn with Inkscape\n",
    "inkscape_roi_verts = cx.get_roi_verts(sub)\n",
    "\n",
    "# roi_verts is a dictionary\n",
    "inkscape_V2_verts = inkscape_roi_verts['V2']\n",
    "inkscape_V3_verts = inkscape_roi_verts['V3']\n",
    "\n",
    "print(\"V2...\")\n",
    "print(\"Freeview ROI has\", len(V2_vertices), \"vertices\" )\n",
    "print(\"Inkscape ROI has\", len(inkscape_V2_verts), \"vertices\" )\n",
    "print(\"Vertices only in Freeview ROI:\", np.setdiff1d(V2_vertices, inkscape_V2_verts))\n",
    "print(\"Vertices only in Inkscape ROI:\", np.setdiff1d(inkscape_V2_verts, V2_vertices))\n",
    "print(\"Total number of different vertices:\", len(np.setdiff1d(V2_vertices, inkscape_V2_verts))+len(np.setdiff1d(inkscape_V2_verts, V2_vertices)))\n",
    "print(\"\")\n",
    "\n",
    "print(\"V3...\")\n",
    "print(\"Freeview ROI has\", len(V3_vertices), \"vertices\" )\n",
    "print(\"Inkscape ROI has\", len(inkscape_V3_verts), \"vertices\" )\n",
    "print(\"Vertices only in Freeview ROI:\", np.setdiff1d(V3_vertices, inkscape_V3_verts))\n",
    "print(\"Vertices only in Inkscape ROI:\", np.setdiff1d(inkscape_V3_verts, V3_vertices))\n",
    "print(\"Total number of different vertices:\", len(np.setdiff1d(V3_vertices, inkscape_V3_verts))+len(np.setdiff1d(inkscape_V3_verts, V3_vertices)))\n"
   ]
  }
 ],
 "metadata": {
  "kernelspec": {
   "display_name": "preproc",
   "language": "python",
   "name": "preproc"
  },
  "language_info": {
   "codemirror_mode": {
    "name": "ipython",
    "version": 3
   },
   "file_extension": ".py",
   "mimetype": "text/x-python",
   "name": "python",
   "nbconvert_exporter": "python",
   "pygments_lexer": "ipython3",
   "version": "3.9.13"
  }
 },
 "nbformat": 4,
 "nbformat_minor": 2
}
